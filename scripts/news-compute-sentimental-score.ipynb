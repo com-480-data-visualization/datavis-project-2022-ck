{
 "cells": [
  {
   "cell_type": "code",
   "execution_count": 5,
   "id": "705da33b",
   "metadata": {},
   "outputs": [],
   "source": [
    "import nltk\n",
    "from nltk.sentiment import SentimentIntensityAnalyzer\n",
    " \n",
    "from datetime import datetime, date, timedelta\n",
    "import pandas as pd\n",
    "from pandas import DataFrame as df"
   ]
  },
  {
   "cell_type": "code",
   "execution_count": 6,
   "id": "5e5ad17f",
   "metadata": {},
   "outputs": [],
   "source": [
    "# nltk.download('vader_lexicon')"
   ]
  },
  {
   "cell_type": "code",
   "execution_count": 8,
   "id": "11aa013d",
   "metadata": {},
   "outputs": [
    {
     "data": {
      "text/plain": [
       "{'neg': 0.636, 'neu': 0.364, 'pos': 0.0, 'compound': -0.5423}"
      ]
     },
     "execution_count": 8,
     "metadata": {},
     "output_type": "execute_result"
    }
   ],
   "source": [
    "sia = SentimentIntensityAnalyzer()"
   ]
  },
  {
   "cell_type": "code",
   "execution_count": 27,
   "id": "1e7465ce",
   "metadata": {},
   "outputs": [],
   "source": [
    "def get_keyword_df(dataframe, name):\n",
    "    col = []\n",
    "    for index, row in dataframe.iterrows():\n",
    "        try:\n",
    "            text = row[name]\n",
    "            sentence = text.strip().lower()\n",
    "            sentiment_score = sia.polarity_scores(sentence)\n",
    "            col.append(sentiment_score['compound'])\n",
    "        except:\n",
    "            print(text)\n",
    "            col.append(0)\n",
    "    dataframe[\"sentiment\"] = col\n",
    "    return dataframe"
   ]
  },
  {
   "cell_type": "code",
   "execution_count": 28,
   "id": "f94f9396",
   "metadata": {},
   "outputs": [],
   "source": [
    "def save_df(dataframe, category,year_str, output_dir = \"../cleaned_data/news/\"):\n",
    "    name = \"news_{}.csv\".format(year_str)\n",
    "    dataframe.to_csv(output_dir + name)"
   ]
  },
  {
   "cell_type": "code",
   "execution_count": 29,
   "id": "357f583b",
   "metadata": {},
   "outputs": [],
   "source": [
    "def get_and_save_keyword(year, output_dir = \"../cleaned_data/news/wordcloud/\"):\n",
    "    input_df = pd.read_csv(\"../cleaned_data/news/news_{}.csv\".format(year))\n",
    "    input_df = input_df.drop(columns = ['Unnamed: 0'])\n",
    "    output = get_keyword_df(input_df, 'title')\n",
    "    save_df(output, \"\", year)"
   ]
  },
  {
   "cell_type": "code",
   "execution_count": 31,
   "id": "f2ce0878",
   "metadata": {},
   "outputs": [
    {
     "name": "stdout",
     "output_type": "stream",
     "text": [
      "nan\n",
      "nan\n"
     ]
    }
   ],
   "source": [
    "for year in range(2013, 2023):\n",
    "    get_and_save_keyword(year, 'body')"
   ]
  },
  {
   "cell_type": "code",
   "execution_count": null,
   "id": "873e20c9",
   "metadata": {},
   "outputs": [],
   "source": []
  }
 ],
 "metadata": {
  "kernelspec": {
   "display_name": "Python 3",
   "language": "python",
   "name": "python3"
  },
  "language_info": {
   "codemirror_mode": {
    "name": "ipython",
    "version": 3
   },
   "file_extension": ".py",
   "mimetype": "text/x-python",
   "name": "python",
   "nbconvert_exporter": "python",
   "pygments_lexer": "ipython3",
   "version": "3.9.4"
  }
 },
 "nbformat": 4,
 "nbformat_minor": 5
}
