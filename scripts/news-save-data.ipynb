{
 "cells": [
  {
   "cell_type": "code",
   "execution_count": 122,
   "id": "6a577000",
   "metadata": {},
   "outputs": [],
   "source": [
    "import requests, time\n",
    "import pickle\n",
    "from datetime import datetime, date, timedelta\n",
    "import pandas as pd\n",
    "from pandas import DataFrame as df\n",
    "import matplotlib.pyplot as plt\n",
    "import numpy as np\n",
    "\n",
    "NEWS_URL = \"https://min-api.cryptocompare.com/data/v2/news/?lang=EN\"\n",
    "NEWS_CATEGORY_URL = \"https://min-api.cryptocompare.com/data/news/categories\"\n",
    "LIMIT_QUERY = 2000"
   ]
  },
  {
   "cell_type": "code",
   "execution_count": 23,
   "id": "a8ca3e00",
   "metadata": {},
   "outputs": [],
   "source": [
    "'''\n",
    "currency : \"BTC\", \"ETH\", \"BCH\", ...\n",
    "'''\n",
    "def news_request(category, lTs = int(datetime.now().timestamp())):\n",
    "    params = {\n",
    "        \"categories\" : category, \n",
    "        \"lTs\" : lTs\n",
    "    }\n",
    "    req = requests.get(NEWS_URL, params = params).json()\n",
    "    return req[\"Data\"]"
   ]
  },
  {
   "cell_type": "code",
   "execution_count": 24,
   "id": "3e3564bd",
   "metadata": {},
   "outputs": [],
   "source": [
    "def date_to_timestamp(date_str):\n",
    "    date = datetime.strptime(date_str, \"%Y-%m-%d\")\n",
    "    end_of_date = date + timedelta(days = 1) - timedelta(seconds = 1)\n",
    "    return end_of_date"
   ]
  },
  {
   "cell_type": "code",
   "execution_count": 25,
   "id": "3db8f30d",
   "metadata": {},
   "outputs": [],
   "source": [
    "def is_same_date(a, b):\n",
    "    return a.year == b.year and a.month == b.month and a.day == b.day"
   ]
  },
  {
   "cell_type": "code",
   "execution_count": 26,
   "id": "f33c97af",
   "metadata": {},
   "outputs": [],
   "source": [
    "def get_news_data(category, news_per_date, start_date, end_date):\n",
    "    result = []\n",
    "\n",
    "    last_time_from = date_to_timestamp(end_date)\n",
    "    \n",
    "    while last_time_from >= datetime.strptime(start_date, \"%Y-%m-%d\"):\n",
    "        data = news_request(category, int(datetime.timestamp(last_time_from)))\n",
    "        i = 0\n",
    "        while last_time_from >= datetime.strptime(start_date, \"%Y-%m-%d\"):\n",
    "            while i< len(data) and is_same_date(date.fromtimestamp(data[i]['published_on']), last_time_from):\n",
    "                result.append(data[i])\n",
    "                i += 1\n",
    "            if i >= len(data):\n",
    "                last_time_from -= timedelta(days = 1)\n",
    "                break\n",
    "            else:\n",
    "                last_time_from = datetime.fromtimestamp(data[i]['published_on'])\n",
    "            \n",
    "    return result"
   ]
  },
  {
   "cell_type": "code",
   "execution_count": 27,
   "id": "a563980c",
   "metadata": {},
   "outputs": [],
   "source": [
    "def to_dataframe(list_data):\n",
    "    add_date = [data | {'date': date.fromtimestamp(data['published_on'])} for data in list_data]\n",
    "    try:\n",
    "        dataframe = df(add_date)[['date', 'id', 'published_on', 'title', 'body', 'url', 'imageurl', 'tags', 'categories']]\n",
    "        return dataframe\n",
    "    except:\n",
    "        return df({})"
   ]
  },
  {
   "cell_type": "code",
   "execution_count": 28,
   "id": "ce09aeb3",
   "metadata": {},
   "outputs": [],
   "source": [
    "def get_news_data_df(category, news_per_date, start_date, end_date):\n",
    "    new_data = get_news_data(category, news_per_date, start_date, end_date)    \n",
    "    return to_dataframe(new_data)"
   ]
  },
  {
   "cell_type": "code",
   "execution_count": 30,
   "id": "1c8bf627",
   "metadata": {},
   "outputs": [],
   "source": [
    "def save_df(dataframe, category,year_str, output_dir = \"./data/news/\"):\n",
    "    name = \"news_{}.csv\".format(year_str)\n",
    "    dataframe.to_csv(output_dir + \"/\" + name)"
   ]
  },
  {
   "cell_type": "code",
   "execution_count": 31,
   "id": "f6a48a2c",
   "metadata": {},
   "outputs": [],
   "source": [
    "def get_and_save_news_data(category, news_per_date = 10, \\\n",
    "        start_date = datetime.now().date().strftime(\"%Y-%m-%d\"), \\\n",
    "        end_date = datetime.now().date().strftime(\"%Y-%m-%d\"), \\\n",
    "        output_dir = \"./data\"):\n",
    "    dataframe = get_news_data_df(category, news_per_date, start_date, end_date)\n",
    "    save_df(dataframe, category, start_date[:4], output_dir)\n",
    "    print(\"done\")"
   ]
  },
  {
   "cell_type": "code",
   "execution_count": 33,
   "id": "bbef0a4d",
   "metadata": {},
   "outputs": [],
   "source": [
    "def get_categories():\n",
    "    req = requests.get(NEWS_CATEGORY_URL).json()\n",
    "    result = [value['categoryName'] for value in req]\n",
    "    return result"
   ]
  },
  {
   "cell_type": "code",
   "execution_count": 34,
   "id": "0fc11e51",
   "metadata": {
    "scrolled": true
   },
   "outputs": [
    {
     "name": "stdout",
     "output_type": "stream",
     "text": [
      "done\n",
      "done\n",
      "done\n",
      "done\n",
      "done\n",
      "done\n",
      "done\n",
      "done\n",
      "done\n",
      "done\n"
     ]
    }
   ],
   "source": [
    "categories = get_categories()\n",
    "for year in range(2022, 2012, -1):\n",
    "    get_and_save_news_data(categories, None, \\\n",
    "        \"{}-1-1\".format(year), \"{}-12-31\".format(year),\n",
    "        output_dir = \"./data/news\")"
   ]
  }
 ],
 "metadata": {
  "kernelspec": {
   "display_name": "Python 3",
   "language": "python",
   "name": "python3"
  },
  "language_info": {
   "codemirror_mode": {
    "name": "ipython",
    "version": 3
   },
   "file_extension": ".py",
   "mimetype": "text/x-python",
   "name": "python",
   "nbconvert_exporter": "python",
   "pygments_lexer": "ipython3",
   "version": "3.9.4"
  }
 },
 "nbformat": 4,
 "nbformat_minor": 5
}
