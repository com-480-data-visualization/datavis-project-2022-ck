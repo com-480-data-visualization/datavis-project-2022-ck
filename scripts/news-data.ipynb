{
 "cells": [
  {
   "cell_type": "code",
   "execution_count": 1,
   "id": "6a577000",
   "metadata": {},
   "outputs": [],
   "source": [
    "import requests, time\n",
    "from datetime import datetime, date, timedelta\n",
    "from pandas import DataFrame as df\n",
    "\n",
    "NEWS_URL = \"https://min-api.cryptocompare.com/data/v2/news/?lang=EN\"\n",
    "NEWS_CATEGORY_URL = \"https://min-api.cryptocompare.com/data/news/categories\"\n",
    "LIMIT_QUERY = 2000"
   ]
  },
  {
   "cell_type": "code",
   "execution_count": 25,
   "id": "a8ca3e00",
   "metadata": {},
   "outputs": [],
   "source": [
    "'''\n",
    "currency : \"BTC\", \"ETH\", \"BCH\", ...\n",
    "'''\n",
    "def news_request(category, lTs = int(datetime.now().timestamp())):\n",
    "    params = {\n",
    "        \"categories\" : category, \n",
    "        \"lTs\" : lTs\n",
    "    }\n",
    "    req = requests.get(NEWS_URL, params = params).json()\n",
    "    return req[\"Data\"]"
   ]
  },
  {
   "cell_type": "code",
   "execution_count": 3,
   "id": "3e3564bd",
   "metadata": {},
   "outputs": [],
   "source": [
    "def date_to_timestamp(date_str):\n",
    "    date = datetime.strptime(date_str, \"%Y-%m-%d\")\n",
    "    end_of_date = date + timedelta(days = 1) - timedelta(seconds = 1)\n",
    "    return end_of_date"
   ]
  },
  {
   "cell_type": "code",
   "execution_count": 45,
   "id": "3db8f30d",
   "metadata": {},
   "outputs": [],
   "source": [
    "def is_same_date(a, b):\n",
    "    return a.year == b.year and a.month == b.month and a.day == b.day"
   ]
  },
  {
   "cell_type": "code",
   "execution_count": 75,
   "id": "f33c97af",
   "metadata": {},
   "outputs": [],
   "source": [
    "def get_news_data(category, news_per_date, start_date, end_date):\n",
    "    result = []\n",
    "\n",
    "    last_time_from = date_to_timestamp(end_date)\n",
    "    \n",
    "    while last_time_from >= datetime.strptime(start_date, \"%Y-%m-%d\"):\n",
    "        data = news_request(category, int(datetime.timestamp(last_time_from)))\n",
    "        i = 0\n",
    "        while last_time_from >= datetime.strptime(start_date, \"%Y-%m-%d\"):\n",
    "            cnt = 0\n",
    "            while i< len(data) and is_same_date(date.fromtimestamp(data[i]['published_on']), last_time_from):\n",
    "                if cnt < news_per_date:\n",
    "                    result.append(data[i])\n",
    "                cnt += 1\n",
    "                i += 1\n",
    "            if i >= len(data):\n",
    "                last_time_from -= timedelta(days = 1)\n",
    "                break\n",
    "            else:\n",
    "                last_time_from = datetime.fromtimestamp(data[i]['published_on'])\n",
    "            \n",
    "    return result"
   ]
  },
  {
   "cell_type": "code",
   "execution_count": 81,
   "id": "a563980c",
   "metadata": {},
   "outputs": [],
   "source": [
    "def to_dataframe(list_data):\n",
    "    add_date = [data | {'date': date.fromtimestamp(data['published_on'])} for data in list_data]\n",
    "    try:\n",
    "        dataframe = df(add_date)[['date', 'id', 'published_on', 'title', 'body', 'url', 'imageurl', 'tags', 'categories']]\n",
    "        return dataframe\n",
    "    except:\n",
    "        return df({})"
   ]
  },
  {
   "cell_type": "code",
   "execution_count": 82,
   "id": "ce09aeb3",
   "metadata": {},
   "outputs": [],
   "source": [
    "def get_news_data_df(category, news_per_date, start_date, end_date):\n",
    "    new_data = get_news_data(category, news_per_date, start_date, end_date)    \n",
    "    return to_dataframe(new_data)"
   ]
  },
  {
   "cell_type": "code",
   "execution_count": 86,
   "id": "22b344ae",
   "metadata": {},
   "outputs": [
    {
     "data": {
      "text/html": [
       "<div>\n",
       "<style scoped>\n",
       "    .dataframe tbody tr th:only-of-type {\n",
       "        vertical-align: middle;\n",
       "    }\n",
       "\n",
       "    .dataframe tbody tr th {\n",
       "        vertical-align: top;\n",
       "    }\n",
       "\n",
       "    .dataframe thead th {\n",
       "        text-align: right;\n",
       "    }\n",
       "</style>\n",
       "<table border=\"1\" class=\"dataframe\">\n",
       "  <thead>\n",
       "    <tr style=\"text-align: right;\">\n",
       "      <th></th>\n",
       "      <th>date</th>\n",
       "      <th>id</th>\n",
       "      <th>published_on</th>\n",
       "      <th>title</th>\n",
       "      <th>body</th>\n",
       "      <th>url</th>\n",
       "      <th>imageurl</th>\n",
       "      <th>tags</th>\n",
       "      <th>categories</th>\n",
       "    </tr>\n",
       "  </thead>\n",
       "  <tbody>\n",
       "    <tr>\n",
       "      <th>0</th>\n",
       "      <td>2017-01-30</td>\n",
       "      <td>69</td>\n",
       "      <td>1485734400</td>\n",
       "      <td>WAVES Weekly No. 28</td>\n",
       "      <td>A transcript of the recent Core Radio intervie...</td>\n",
       "      <td>http://coremedia.info/waves-news/item/396-wave...</td>\n",
       "      <td>https://images.cryptocompare.com/news/default/...</td>\n",
       "      <td>WAVES News</td>\n",
       "      <td>Regulation|Blockchain|Technology|Business</td>\n",
       "    </tr>\n",
       "    <tr>\n",
       "      <th>1</th>\n",
       "      <td>2017-01-30</td>\n",
       "      <td>14826</td>\n",
       "      <td>1485734400</td>\n",
       "      <td>WAVES Weekly No. 28</td>\n",
       "      <td>A transcript of the recent Core Radio intervie...</td>\n",
       "      <td>http://www.cryptocoremedia.com/old/waves-news/...</td>\n",
       "      <td>https://images.cryptocompare.com/news/coremedi...</td>\n",
       "      <td>WAVES News</td>\n",
       "      <td>Regulation|Blockchain|Technology|Business</td>\n",
       "    </tr>\n",
       "    <tr>\n",
       "      <th>2</th>\n",
       "      <td>2017-01-27</td>\n",
       "      <td>14827</td>\n",
       "      <td>1485475200</td>\n",
       "      <td>CORE Radio Interview Transcript with Sasha Iva...</td>\n",
       "      <td>Lootz: “Today we have Sasha. Hey Sasha.”Sasha:...</td>\n",
       "      <td>http://www.cryptocoremedia.com/old/waves-news/...</td>\n",
       "      <td>https://images.cryptocompare.com/news/coremedi...</td>\n",
       "      <td>WAVES News</td>\n",
       "      <td>Trading</td>\n",
       "    </tr>\n",
       "    <tr>\n",
       "      <th>3</th>\n",
       "      <td>2017-01-27</td>\n",
       "      <td>70</td>\n",
       "      <td>1485475200</td>\n",
       "      <td>CORE Radio Interview Transcript with Sasha Iva...</td>\n",
       "      <td>Lootz: “Today we have Sasha. Hey Sasha.”Sasha:...</td>\n",
       "      <td>http://coremedia.info/waves-news/item/393-core...</td>\n",
       "      <td>https://images.cryptocompare.com/news/default/...</td>\n",
       "      <td>WAVES News</td>\n",
       "      <td>Trading</td>\n",
       "    </tr>\n",
       "    <tr>\n",
       "      <th>4</th>\n",
       "      <td>2017-01-07</td>\n",
       "      <td>137470</td>\n",
       "      <td>1483790400</td>\n",
       "      <td>Novoletne zaobljube</td>\n",
       "      <td>Začetek leta je tu in z njim tradicionalne nov...</td>\n",
       "      <td>https://dieta.si/diete/novoletne-zaobljube/</td>\n",
       "      <td>https://images.cryptocompare.com/news/default/...</td>\n",
       "      <td>Diete</td>\n",
       "      <td>Other</td>\n",
       "    </tr>\n",
       "    <tr>\n",
       "      <th>5</th>\n",
       "      <td>2016-12-11</td>\n",
       "      <td>137471</td>\n",
       "      <td>1481469652</td>\n",
       "      <td>Crossfit vadba</td>\n",
       "      <td>Zakaj gre pri Crossfit vadbi? Crossfit vadba i...</td>\n",
       "      <td>https://dieta.si/sport/crossfit-vadba/</td>\n",
       "      <td>https://images.cryptocompare.com/news/default/...</td>\n",
       "      <td>Šport|crossfit|vadba</td>\n",
       "      <td>Other</td>\n",
       "    </tr>\n",
       "    <tr>\n",
       "      <th>6</th>\n",
       "      <td>2016-11-23</td>\n",
       "      <td>137472</td>\n",
       "      <td>1479903710</td>\n",
       "      <td>Med zdravjem in boleznijo</td>\n",
       "      <td>Med zdravjem in boleznijo – prehrana pri kroni...</td>\n",
       "      <td>https://dieta.si/nekategorizirano/med-zdravjem...</td>\n",
       "      <td>https://images.cryptocompare.com/news/default/...</td>\n",
       "      <td>Nerazvrščeno|bolezen|dieta|prehrana|zdravje</td>\n",
       "      <td>Other</td>\n",
       "    </tr>\n",
       "    <tr>\n",
       "      <th>7</th>\n",
       "      <td>2016-11-18</td>\n",
       "      <td>137473</td>\n",
       "      <td>1479455270</td>\n",
       "      <td>Prebava in naše prehranske navade</td>\n",
       "      <td>Prebava ne more slediti našim navadam Za resni...</td>\n",
       "      <td>https://dieta.si/hujsanje/prebava-nase-prehran...</td>\n",
       "      <td>https://images.cryptocompare.com/news/default/...</td>\n",
       "      <td>Diete|Hujšanje|dieta|hujšanje|obrok|prebava|pr...</td>\n",
       "      <td>Other</td>\n",
       "    </tr>\n",
       "    <tr>\n",
       "      <th>8</th>\n",
       "      <td>2016-11-15</td>\n",
       "      <td>137474</td>\n",
       "      <td>1479199980</td>\n",
       "      <td>Dieta in čustva</td>\n",
       "      <td>Čustva močno vplivajo na dieto Danes se bomo p...</td>\n",
       "      <td>https://dieta.si/hujsanje/dieta-in-custva/</td>\n",
       "      <td>https://images.cryptocompare.com/news/default/...</td>\n",
       "      <td>Hujšanje|čustva|dieta|telovadba</td>\n",
       "      <td>Other</td>\n",
       "    </tr>\n",
       "  </tbody>\n",
       "</table>\n",
       "</div>"
      ],
      "text/plain": [
       "         date      id  published_on  \\\n",
       "0  2017-01-30      69    1485734400   \n",
       "1  2017-01-30   14826    1485734400   \n",
       "2  2017-01-27   14827    1485475200   \n",
       "3  2017-01-27      70    1485475200   \n",
       "4  2017-01-07  137470    1483790400   \n",
       "5  2016-12-11  137471    1481469652   \n",
       "6  2016-11-23  137472    1479903710   \n",
       "7  2016-11-18  137473    1479455270   \n",
       "8  2016-11-15  137474    1479199980   \n",
       "\n",
       "                                               title  \\\n",
       "0                                WAVES Weekly No. 28   \n",
       "1                                WAVES Weekly No. 28   \n",
       "2  CORE Radio Interview Transcript with Sasha Iva...   \n",
       "3  CORE Radio Interview Transcript with Sasha Iva...   \n",
       "4                                Novoletne zaobljube   \n",
       "5                                     Crossfit vadba   \n",
       "6                          Med zdravjem in boleznijo   \n",
       "7                  Prebava in naše prehranske navade   \n",
       "8                                    Dieta in čustva   \n",
       "\n",
       "                                                body  \\\n",
       "0  A transcript of the recent Core Radio intervie...   \n",
       "1  A transcript of the recent Core Radio intervie...   \n",
       "2  Lootz: “Today we have Sasha. Hey Sasha.”Sasha:...   \n",
       "3  Lootz: “Today we have Sasha. Hey Sasha.”Sasha:...   \n",
       "4  Začetek leta je tu in z njim tradicionalne nov...   \n",
       "5  Zakaj gre pri Crossfit vadbi? Crossfit vadba i...   \n",
       "6  Med zdravjem in boleznijo – prehrana pri kroni...   \n",
       "7  Prebava ne more slediti našim navadam Za resni...   \n",
       "8  Čustva močno vplivajo na dieto Danes se bomo p...   \n",
       "\n",
       "                                                 url  \\\n",
       "0  http://coremedia.info/waves-news/item/396-wave...   \n",
       "1  http://www.cryptocoremedia.com/old/waves-news/...   \n",
       "2  http://www.cryptocoremedia.com/old/waves-news/...   \n",
       "3  http://coremedia.info/waves-news/item/393-core...   \n",
       "4        https://dieta.si/diete/novoletne-zaobljube/   \n",
       "5             https://dieta.si/sport/crossfit-vadba/   \n",
       "6  https://dieta.si/nekategorizirano/med-zdravjem...   \n",
       "7  https://dieta.si/hujsanje/prebava-nase-prehran...   \n",
       "8         https://dieta.si/hujsanje/dieta-in-custva/   \n",
       "\n",
       "                                            imageurl  \\\n",
       "0  https://images.cryptocompare.com/news/default/...   \n",
       "1  https://images.cryptocompare.com/news/coremedi...   \n",
       "2  https://images.cryptocompare.com/news/coremedi...   \n",
       "3  https://images.cryptocompare.com/news/default/...   \n",
       "4  https://images.cryptocompare.com/news/default/...   \n",
       "5  https://images.cryptocompare.com/news/default/...   \n",
       "6  https://images.cryptocompare.com/news/default/...   \n",
       "7  https://images.cryptocompare.com/news/default/...   \n",
       "8  https://images.cryptocompare.com/news/default/...   \n",
       "\n",
       "                                                tags  \\\n",
       "0                                         WAVES News   \n",
       "1                                         WAVES News   \n",
       "2                                         WAVES News   \n",
       "3                                         WAVES News   \n",
       "4                                              Diete   \n",
       "5                               Šport|crossfit|vadba   \n",
       "6        Nerazvrščeno|bolezen|dieta|prehrana|zdravje   \n",
       "7  Diete|Hujšanje|dieta|hujšanje|obrok|prebava|pr...   \n",
       "8                    Hujšanje|čustva|dieta|telovadba   \n",
       "\n",
       "                                  categories  \n",
       "0  Regulation|Blockchain|Technology|Business  \n",
       "1  Regulation|Blockchain|Technology|Business  \n",
       "2                                    Trading  \n",
       "3                                    Trading  \n",
       "4                                      Other  \n",
       "5                                      Other  \n",
       "6                                      Other  \n",
       "7                                      Other  \n",
       "8                                      Other  "
      ]
     },
     "execution_count": 86,
     "metadata": {},
     "output_type": "execute_result"
    }
   ],
   "source": [
    "# Create a dataframe for the data\n",
    "dataframe = get_news_data_df(None, 2, \"2016-10-26\", \"2017-02-02\")\n",
    "dataframe"
   ]
  },
  {
   "cell_type": "code",
   "execution_count": 87,
   "id": "1c8bf627",
   "metadata": {},
   "outputs": [],
   "source": [
    "def save_df(dataframe, category, start_date_str, end_date_str, output_dir = \"./data/news/\"):\n",
    "    name = \"news_{}_{}_{}.csv\".format('all', start_date_str, end_date_str)\n",
    "    dataframe.to_csv(output_dir + \"/\" + name)"
   ]
  },
  {
   "cell_type": "code",
   "execution_count": 88,
   "id": "f6a48a2c",
   "metadata": {},
   "outputs": [],
   "source": [
    "def get_and_save_news_data(category, news_per_date = 10, \\\n",
    "        start_date = datetime.now().date().strftime(\"%Y-%m-%d\"), \\\n",
    "        end_date = datetime.now().date().strftime(\"%Y-%m-%d\"), \\\n",
    "        output_dir = \"../raw_data\"):\n",
    "    dataframe = get_news_data_df(category, news_per_date, start_date, end_date)\n",
    "    save_df(dataframe, category, start_date, end_date, output_dir)\n",
    "    print(\"done\")"
   ]
  },
  {
   "cell_type": "code",
   "execution_count": 89,
   "id": "667e1e6c",
   "metadata": {},
   "outputs": [
    {
     "data": {
      "text/plain": [
       "'\\ncurrency, days, news_per_date, end_date\\n'"
      ]
     },
     "execution_count": 89,
     "metadata": {},
     "output_type": "execute_result"
    }
   ],
   "source": [
    "'''\n",
    "currency, days, news_per_date, end_date\n",
    "'''\n",
    "# get_and_save_news_data(\"BTC\", 10, 1, \"2022-03-09\")"
   ]
  },
  {
   "cell_type": "code",
   "execution_count": 90,
   "id": "bbef0a4d",
   "metadata": {},
   "outputs": [],
   "source": [
    "def get_categories():\n",
    "    req = requests.get(NEWS_CATEGORY_URL).json()\n",
    "    result = [value['categoryName'] for value in req]\n",
    "    return result"
   ]
  },
  {
   "cell_type": "code",
   "execution_count": 92,
   "id": "0fc11e51",
   "metadata": {
    "scrolled": true
   },
   "outputs": [
    {
     "name": "stdout",
     "output_type": "stream",
     "text": [
      "done\n",
      "done\n",
      "done\n",
      "done\n"
     ]
    }
   ],
   "source": [
    "categories = get_categories()\n",
    "# for category in categories:\n",
    "#     get_and_save_news_data(category, 10, 1)\n",
    "#     time.sleep(0.1)\n",
    "for year in range(2022, 2012, -1):\n",
    "    get_and_save_news_data(categories, 10, \\\n",
    "        \"{}-1-1\".format(year), \"{}-12-31\".format(year),\n",
    "        output_dir = \"../cleaned_data/news\")"
   ]
  },
  {
   "cell_type": "code",
   "execution_count": 30,
   "id": "256f589a",
   "metadata": {},
   "outputs": [],
   "source": [
    "categories = get_categories()"
   ]
  },
  {
   "cell_type": "code",
   "execution_count": 31,
   "id": "c16484d9",
   "metadata": {},
   "outputs": [
    {
     "data": {
      "text/plain": [
       "['BTC',\n",
       " 'BCH',\n",
       " 'ETH',\n",
       " 'LTC',\n",
       " 'XMR',\n",
       " 'ZEC',\n",
       " 'ETC',\n",
       " 'XRP',\n",
       " 'TRX',\n",
       " 'ADA',\n",
       " 'DASH',\n",
       " 'XTZ',\n",
       " 'USDT',\n",
       " 'Mining',\n",
       " 'Exchange',\n",
       " 'Market',\n",
       " 'Asia',\n",
       " 'ICO',\n",
       " 'Regulation',\n",
       " 'Blockchain',\n",
       " 'Trading',\n",
       " 'Technology',\n",
       " 'Wallet',\n",
       " 'Altcoin',\n",
       " 'Fiat',\n",
       " 'Business',\n",
       " 'Commodity',\n",
       " 'Sponsored']"
      ]
     },
     "execution_count": 31,
     "metadata": {},
     "output_type": "execute_result"
    }
   ],
   "source": [
    "categories"
   ]
  },
  {
   "cell_type": "code",
   "execution_count": null,
   "id": "fe0a5d17",
   "metadata": {},
   "outputs": [],
   "source": []
  }
 ],
 "metadata": {
  "kernelspec": {
   "display_name": "Python 3 (ipykernel)",
   "language": "python",
   "name": "python3"
  },
  "language_info": {
   "codemirror_mode": {
    "name": "ipython",
    "version": 3
   },
   "file_extension": ".py",
   "mimetype": "text/x-python",
   "name": "python",
   "nbconvert_exporter": "python",
   "pygments_lexer": "ipython3",
   "version": "3.9.9"
  }
 },
 "nbformat": 4,
 "nbformat_minor": 5
}
