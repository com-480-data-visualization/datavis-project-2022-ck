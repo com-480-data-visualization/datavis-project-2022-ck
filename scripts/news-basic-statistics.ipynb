{
 "cells": [
  {
   "cell_type": "code",
   "execution_count": 122,
   "id": "6a577000",
   "metadata": {},
   "outputs": [],
   "source": [
    "import requests, time\n",
    "import pandas as pd\n",
    "from pandas import DataFrame as df\n",
    "import matplotlib.pyplot as plt\n",
    "import numpy as np\n",
    "\n",
    "NEWS_CATEGORY_URL = \"https://min-api.cryptocompare.com/data/news/categories\"\n",
    "LIMIT_QUERY = 2000"
   ]
  },
  {
   "cell_type": "code",
   "execution_count": 23,
   "id": "a8ca3e00",
   "metadata": {},
   "outputs": [],
   "source": [
    "'''\n",
    "currency : \"BTC\", \"ETH\", \"BCH\", ...\n",
    "'''\n",
    "def news_request(category, lTs = int(datetime.now().timestamp())):\n",
    "    params = {\n",
    "        \"categories\" : category, \n",
    "        \"lTs\" : lTs\n",
    "    }\n",
    "    req = requests.get(NEWS_URL, params = params).json()\n",
    "    return req[\"Data\"]"
   ]
  },
  {
   "cell_type": "code",
   "execution_count": 33,
   "id": "bbef0a4d",
   "metadata": {},
   "outputs": [],
   "source": [
    "def get_categories():\n",
    "    req = requests.get(NEWS_CATEGORY_URL).json()\n",
    "    result = [value['categoryName'] for value in req]\n",
    "    return result"
   ]
  },
  {
   "cell_type": "code",
   "execution_count": 6,
   "id": "c16484d9",
   "metadata": {},
   "outputs": [
    {
     "data": {
      "text/plain": [
       "['BTC',\n",
       " 'BCH',\n",
       " 'ETH',\n",
       " 'LTC',\n",
       " 'XMR',\n",
       " 'ZEC',\n",
       " 'ETC',\n",
       " 'XRP',\n",
       " 'TRX',\n",
       " 'ADA',\n",
       " 'DASH',\n",
       " 'XTZ',\n",
       " 'USDT',\n",
       " 'Mining',\n",
       " 'Exchange',\n",
       " 'Market',\n",
       " 'Asia',\n",
       " 'ICO',\n",
       " 'Regulation',\n",
       " 'Blockchain',\n",
       " 'Trading',\n",
       " 'Technology',\n",
       " 'Wallet',\n",
       " 'Altcoin',\n",
       " 'Fiat',\n",
       " 'Business',\n",
       " 'Commodity',\n",
       " 'Sponsored']"
      ]
     },
     "execution_count": 6,
     "metadata": {},
     "output_type": "execute_result"
    }
   ],
   "source": [
    "categories"
   ]
  },
  {
   "cell_type": "code",
   "execution_count": 7,
   "id": "fe0a5d17",
   "metadata": {},
   "outputs": [
    {
     "data": {
      "text/plain": [
       "28"
      ]
     },
     "execution_count": 7,
     "metadata": {},
     "output_type": "execute_result"
    }
   ],
   "source": [
    "len(categories)"
   ]
  },
  {
   "cell_type": "markdown",
   "id": "0b00fc6c",
   "metadata": {},
   "source": [
    "# Basic Statistics"
   ]
  },
  {
   "cell_type": "code",
   "execution_count": 42,
   "id": "0e1ab0eb",
   "metadata": {},
   "outputs": [],
   "source": [
    "basic_df = df(0, index = range(2013, 2023), columns = ['all']+categories)"
   ]
  },
  {
   "cell_type": "code",
   "execution_count": 62,
   "id": "d56f5d74",
   "metadata": {},
   "outputs": [],
   "source": [
    "def count_number(year):\n",
    "    input_df = pd.read_csv(\"./data/news/news_{}.csv\".format(year))\n",
    "    for category in categories:\n",
    "        try:\n",
    "            filter_df = input_df[input_df['categories'].str.contains(category)]\n",
    "            basic_df[category][year] = len(filter_df)\n",
    "        except:\n",
    "            pass\n",
    "    basic_df['all'][year] = len(input_df)\n",
    "\n",
    "for year in range(2013, 2023):\n",
    "    count_number(year)"
   ]
  },
  {
   "cell_type": "code",
   "execution_count": 63,
   "id": "9f996cd0",
   "metadata": {
    "scrolled": true
   },
   "outputs": [
    {
     "data": {
      "text/html": [
       "<div>\n",
       "<style scoped>\n",
       "    .dataframe tbody tr th:only-of-type {\n",
       "        vertical-align: middle;\n",
       "    }\n",
       "\n",
       "    .dataframe tbody tr th {\n",
       "        vertical-align: top;\n",
       "    }\n",
       "\n",
       "    .dataframe thead th {\n",
       "        text-align: right;\n",
       "    }\n",
       "</style>\n",
       "<table border=\"1\" class=\"dataframe\">\n",
       "  <thead>\n",
       "    <tr style=\"text-align: right;\">\n",
       "      <th></th>\n",
       "      <th>all</th>\n",
       "      <th>BTC</th>\n",
       "      <th>BCH</th>\n",
       "      <th>ETH</th>\n",
       "      <th>LTC</th>\n",
       "      <th>XMR</th>\n",
       "      <th>ZEC</th>\n",
       "      <th>ETC</th>\n",
       "      <th>XRP</th>\n",
       "      <th>TRX</th>\n",
       "      <th>...</th>\n",
       "      <th>Regulation</th>\n",
       "      <th>Blockchain</th>\n",
       "      <th>Trading</th>\n",
       "      <th>Technology</th>\n",
       "      <th>Wallet</th>\n",
       "      <th>Altcoin</th>\n",
       "      <th>Fiat</th>\n",
       "      <th>Business</th>\n",
       "      <th>Commodity</th>\n",
       "      <th>Sponsored</th>\n",
       "    </tr>\n",
       "  </thead>\n",
       "  <tbody>\n",
       "    <tr>\n",
       "      <th>2013</th>\n",
       "      <td>28</td>\n",
       "      <td>24</td>\n",
       "      <td>0</td>\n",
       "      <td>1</td>\n",
       "      <td>0</td>\n",
       "      <td>0</td>\n",
       "      <td>0</td>\n",
       "      <td>0</td>\n",
       "      <td>0</td>\n",
       "      <td>0</td>\n",
       "      <td>...</td>\n",
       "      <td>3</td>\n",
       "      <td>0</td>\n",
       "      <td>3</td>\n",
       "      <td>1</td>\n",
       "      <td>0</td>\n",
       "      <td>0</td>\n",
       "      <td>3</td>\n",
       "      <td>1</td>\n",
       "      <td>0</td>\n",
       "      <td>1</td>\n",
       "    </tr>\n",
       "    <tr>\n",
       "      <th>2014</th>\n",
       "      <td>1</td>\n",
       "      <td>1</td>\n",
       "      <td>0</td>\n",
       "      <td>0</td>\n",
       "      <td>0</td>\n",
       "      <td>0</td>\n",
       "      <td>0</td>\n",
       "      <td>0</td>\n",
       "      <td>0</td>\n",
       "      <td>0</td>\n",
       "      <td>...</td>\n",
       "      <td>0</td>\n",
       "      <td>1</td>\n",
       "      <td>0</td>\n",
       "      <td>1</td>\n",
       "      <td>0</td>\n",
       "      <td>0</td>\n",
       "      <td>0</td>\n",
       "      <td>0</td>\n",
       "      <td>0</td>\n",
       "      <td>0</td>\n",
       "    </tr>\n",
       "    <tr>\n",
       "      <th>2015</th>\n",
       "      <td>0</td>\n",
       "      <td>0</td>\n",
       "      <td>0</td>\n",
       "      <td>0</td>\n",
       "      <td>0</td>\n",
       "      <td>0</td>\n",
       "      <td>0</td>\n",
       "      <td>0</td>\n",
       "      <td>0</td>\n",
       "      <td>0</td>\n",
       "      <td>...</td>\n",
       "      <td>0</td>\n",
       "      <td>0</td>\n",
       "      <td>0</td>\n",
       "      <td>0</td>\n",
       "      <td>0</td>\n",
       "      <td>0</td>\n",
       "      <td>0</td>\n",
       "      <td>0</td>\n",
       "      <td>0</td>\n",
       "      <td>0</td>\n",
       "    </tr>\n",
       "    <tr>\n",
       "      <th>2016</th>\n",
       "      <td>20</td>\n",
       "      <td>6</td>\n",
       "      <td>0</td>\n",
       "      <td>0</td>\n",
       "      <td>2</td>\n",
       "      <td>0</td>\n",
       "      <td>0</td>\n",
       "      <td>4</td>\n",
       "      <td>2</td>\n",
       "      <td>0</td>\n",
       "      <td>...</td>\n",
       "      <td>0</td>\n",
       "      <td>8</td>\n",
       "      <td>10</td>\n",
       "      <td>16</td>\n",
       "      <td>0</td>\n",
       "      <td>2</td>\n",
       "      <td>0</td>\n",
       "      <td>0</td>\n",
       "      <td>0</td>\n",
       "      <td>2</td>\n",
       "    </tr>\n",
       "    <tr>\n",
       "      <th>2017</th>\n",
       "      <td>5002</td>\n",
       "      <td>2720</td>\n",
       "      <td>0</td>\n",
       "      <td>729</td>\n",
       "      <td>181</td>\n",
       "      <td>84</td>\n",
       "      <td>30</td>\n",
       "      <td>17</td>\n",
       "      <td>123</td>\n",
       "      <td>3</td>\n",
       "      <td>...</td>\n",
       "      <td>585</td>\n",
       "      <td>1467</td>\n",
       "      <td>1050</td>\n",
       "      <td>691</td>\n",
       "      <td>70</td>\n",
       "      <td>275</td>\n",
       "      <td>570</td>\n",
       "      <td>691</td>\n",
       "      <td>33</td>\n",
       "      <td>891</td>\n",
       "    </tr>\n",
       "    <tr>\n",
       "      <th>2018</th>\n",
       "      <td>18238</td>\n",
       "      <td>8758</td>\n",
       "      <td>0</td>\n",
       "      <td>2346</td>\n",
       "      <td>588</td>\n",
       "      <td>288</td>\n",
       "      <td>176</td>\n",
       "      <td>76</td>\n",
       "      <td>968</td>\n",
       "      <td>99</td>\n",
       "      <td>...</td>\n",
       "      <td>2542</td>\n",
       "      <td>5367</td>\n",
       "      <td>4515</td>\n",
       "      <td>2247</td>\n",
       "      <td>301</td>\n",
       "      <td>1387</td>\n",
       "      <td>1639</td>\n",
       "      <td>2480</td>\n",
       "      <td>120</td>\n",
       "      <td>2777</td>\n",
       "    </tr>\n",
       "    <tr>\n",
       "      <th>2019</th>\n",
       "      <td>18250</td>\n",
       "      <td>9399</td>\n",
       "      <td>492</td>\n",
       "      <td>3213</td>\n",
       "      <td>885</td>\n",
       "      <td>228</td>\n",
       "      <td>117</td>\n",
       "      <td>139</td>\n",
       "      <td>1711</td>\n",
       "      <td>308</td>\n",
       "      <td>...</td>\n",
       "      <td>2104</td>\n",
       "      <td>4035</td>\n",
       "      <td>5818</td>\n",
       "      <td>1921</td>\n",
       "      <td>250</td>\n",
       "      <td>2293</td>\n",
       "      <td>1660</td>\n",
       "      <td>2558</td>\n",
       "      <td>95</td>\n",
       "      <td>691</td>\n",
       "    </tr>\n",
       "    <tr>\n",
       "      <th>2020</th>\n",
       "      <td>18300</td>\n",
       "      <td>9507</td>\n",
       "      <td>579</td>\n",
       "      <td>2918</td>\n",
       "      <td>456</td>\n",
       "      <td>207</td>\n",
       "      <td>117</td>\n",
       "      <td>138</td>\n",
       "      <td>1207</td>\n",
       "      <td>79</td>\n",
       "      <td>...</td>\n",
       "      <td>1883</td>\n",
       "      <td>2854</td>\n",
       "      <td>5900</td>\n",
       "      <td>1942</td>\n",
       "      <td>150</td>\n",
       "      <td>2004</td>\n",
       "      <td>1727</td>\n",
       "      <td>3252</td>\n",
       "      <td>194</td>\n",
       "      <td>482</td>\n",
       "    </tr>\n",
       "    <tr>\n",
       "      <th>2021</th>\n",
       "      <td>18250</td>\n",
       "      <td>9095</td>\n",
       "      <td>285</td>\n",
       "      <td>3213</td>\n",
       "      <td>367</td>\n",
       "      <td>101</td>\n",
       "      <td>51</td>\n",
       "      <td>111</td>\n",
       "      <td>895</td>\n",
       "      <td>73</td>\n",
       "      <td>...</td>\n",
       "      <td>2466</td>\n",
       "      <td>1998</td>\n",
       "      <td>6372</td>\n",
       "      <td>1172</td>\n",
       "      <td>68</td>\n",
       "      <td>2538</td>\n",
       "      <td>1582</td>\n",
       "      <td>3658</td>\n",
       "      <td>88</td>\n",
       "      <td>812</td>\n",
       "    </tr>\n",
       "    <tr>\n",
       "      <th>2022</th>\n",
       "      <td>4700</td>\n",
       "      <td>2008</td>\n",
       "      <td>10</td>\n",
       "      <td>940</td>\n",
       "      <td>33</td>\n",
       "      <td>15</td>\n",
       "      <td>10</td>\n",
       "      <td>21</td>\n",
       "      <td>156</td>\n",
       "      <td>8</td>\n",
       "      <td>...</td>\n",
       "      <td>614</td>\n",
       "      <td>825</td>\n",
       "      <td>1610</td>\n",
       "      <td>307</td>\n",
       "      <td>35</td>\n",
       "      <td>680</td>\n",
       "      <td>377</td>\n",
       "      <td>836</td>\n",
       "      <td>26</td>\n",
       "      <td>256</td>\n",
       "    </tr>\n",
       "  </tbody>\n",
       "</table>\n",
       "<p>10 rows × 29 columns</p>\n",
       "</div>"
      ],
      "text/plain": [
       "        all   BTC  BCH   ETH  LTC  XMR  ZEC  ETC   XRP  TRX  ...  Regulation  \\\n",
       "2013     28    24    0     1    0    0    0    0     0    0  ...           3   \n",
       "2014      1     1    0     0    0    0    0    0     0    0  ...           0   \n",
       "2015      0     0    0     0    0    0    0    0     0    0  ...           0   \n",
       "2016     20     6    0     0    2    0    0    4     2    0  ...           0   \n",
       "2017   5002  2720    0   729  181   84   30   17   123    3  ...         585   \n",
       "2018  18238  8758    0  2346  588  288  176   76   968   99  ...        2542   \n",
       "2019  18250  9399  492  3213  885  228  117  139  1711  308  ...        2104   \n",
       "2020  18300  9507  579  2918  456  207  117  138  1207   79  ...        1883   \n",
       "2021  18250  9095  285  3213  367  101   51  111   895   73  ...        2466   \n",
       "2022   4700  2008   10   940   33   15   10   21   156    8  ...         614   \n",
       "\n",
       "      Blockchain  Trading  Technology  Wallet  Altcoin  Fiat  Business  \\\n",
       "2013           0        3           1       0        0     3         1   \n",
       "2014           1        0           1       0        0     0         0   \n",
       "2015           0        0           0       0        0     0         0   \n",
       "2016           8       10          16       0        2     0         0   \n",
       "2017        1467     1050         691      70      275   570       691   \n",
       "2018        5367     4515        2247     301     1387  1639      2480   \n",
       "2019        4035     5818        1921     250     2293  1660      2558   \n",
       "2020        2854     5900        1942     150     2004  1727      3252   \n",
       "2021        1998     6372        1172      68     2538  1582      3658   \n",
       "2022         825     1610         307      35      680   377       836   \n",
       "\n",
       "      Commodity  Sponsored  \n",
       "2013          0          1  \n",
       "2014          0          0  \n",
       "2015          0          0  \n",
       "2016          0          2  \n",
       "2017         33        891  \n",
       "2018        120       2777  \n",
       "2019         95        691  \n",
       "2020        194        482  \n",
       "2021         88        812  \n",
       "2022         26        256  \n",
       "\n",
       "[10 rows x 29 columns]"
      ]
     },
     "execution_count": 63,
     "metadata": {},
     "output_type": "execute_result"
    }
   ],
   "source": [
    "basic_df"
   ]
  },
  {
   "cell_type": "code",
   "execution_count": 71,
   "id": "d0134ac2",
   "metadata": {
    "scrolled": true
   },
   "outputs": [
    {
     "data": {
      "image/png": "[encoded data removed]",
      "text/plain": [
       "<Figure size 720x432 with 1 Axes>"
      ]
     },
     "metadata": {
      "needs_background": "light"
     },
     "output_type": "display_data"
    }
   ],
   "source": [
    "df = basic_df['all']\n",
    "df.plot(kind = \"barh\", figsize = (10, 6),alpha = 0.7)\n",
    "plt.xlabel(\"# of news article\", size = 15)\n",
    "plt.ylabel(\"Year\", size = 15)\n",
    "plt.show()"
   ]
  },
  {
   "cell_type": "code",
   "execution_count": 74,
   "id": "90fc68a7",
   "metadata": {},
   "outputs": [
    {
     "data": {
      "image/png": "[encoded data removed]",
      "text/plain": [
       "<Figure size 432x288 with 1 Axes>"
      ]
     },
     "metadata": {},
     "output_type": "display_data"
    }
   ],
   "source": [
    "ratio = [basic_df[row].sum() for row in basic_df if row != 'all']\n",
    "labels = [row for row in basic_df if row != 'all']\n",
    "\n",
    "plt.pie(ratio, labels = labels, autopct = '%.1f%%')\n",
    "plt.show()"
   ]
  },
  {
   "cell_type": "code",
   "execution_count": 157,
   "id": "8bd14210",
   "metadata": {},
   "outputs": [
    {
     "data": {
      "image/png": "[encoded data removed]",
      "text/plain": [
       "<Figure size 432x288 with 1 Axes>"
      ]
     },
     "metadata": {},
     "output_type": "display_data"
    }
   ],
   "source": [
    "df = basic_df.sum()\n",
    "df = df.drop(['all'])\n",
    "df= df.sort_values(ascending = False)\n",
    "\n",
    "N = 7\n",
    "topN = df.iloc[:N]\n",
    "other = df.iloc[N:]\n",
    "others_name = \"Others({}...)\".format(\", \".join(list(other.index)[:3]))\n",
    "\n",
    "ratios = topN.to_list() + [other.sum()]\n",
    "labels = list(topN.index) + [others_name]\n",
    "colors = [ 'gold', 'deepskyblue', 'lightskyblue',  'dodgerblue','aliceblue',  'bisque', 'navajowhite', 'ghostwhite']\n",
    "plt.pie(ratios, labels = labels, autopct = '%.1f%%', colors = colors)\n",
    "plt.title(\"Ratio of # of news article for each category\")\n",
    "plt.show()"
   ]
  },
  {
   "cell_type": "code",
   "execution_count": 158,
   "id": "8097c261",
   "metadata": {},
   "outputs": [
    {
     "name": "stdout",
     "output_type": "stream",
     "text": [
      "15\n"
     ]
    },
    {
     "data": {
      "image/png": "[encoded data removed]",
      "text/plain": [
       "<Figure size 720x432 with 1 Axes>"
      ]
     },
     "metadata": {
      "needs_background": "light"
     },
     "output_type": "display_data"
    }
   ],
   "source": [
    "coins = ['BTC',\n",
    " 'BCH',\n",
    " 'ETH',\n",
    " 'LTC',\n",
    " 'XMR',\n",
    " 'ZEC',\n",
    " 'ETC',\n",
    " 'XRP',\n",
    " 'TRX',\n",
    " 'ADA',\n",
    " 'DASH',\n",
    " 'XTZ',\n",
    " 'USDT',\n",
    " 'ICO',\n",
    " 'Altcoin']\n",
    "print(len(coins))\n",
    "df = basic_df[coins]\n",
    "df = df.sum()\n",
    "df= df.sort_values(ascending = False)\n",
    "df.plot(kind = \"barh\", figsize = (10, 6),alpha = 0.7, color=\"dodgerblue\")\n",
    "plt.xlabel(\"# of news article\", size = 15)\n",
    "plt.ylabel(\"Coin Category\", size = 15)\n",
    "plt.title('# of news article for each coin category')\n",
    "plt.show()"
   ]
  },
  {
   "cell_type": "code",
   "execution_count": null,
   "id": "b13491ce",
   "metadata": {},
   "outputs": [],
   "source": []
  }
 ],
 "metadata": {
  "kernelspec": {
   "display_name": "Python 3",
   "language": "python",
   "name": "python3"
  },
  "language_info": {
   "codemirror_mode": {
    "name": "ipython",
    "version": 3
   },
   "file_extension": ".py",
   "mimetype": "text/x-python",
   "name": "python",
   "nbconvert_exporter": "python",
   "pygments_lexer": "ipython3",
   "version": "3.9.4"
  }
 },
 "nbformat": 4,
 "nbformat_minor": 5
}
