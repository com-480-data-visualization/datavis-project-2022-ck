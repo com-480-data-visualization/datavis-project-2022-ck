{
 "cells": [
  {
   "cell_type": "code",
   "execution_count": 86,
   "id": "705da33b",
   "metadata": {},
   "outputs": [],
   "source": [
    "import nltk\n",
    "from nltk import word_tokenize\n",
    "from nltk.probability import FreqDist\n",
    "from nltk.corpus import stopwords\n",
    "from nltk.stem import WordNetLemmatizer\n",
    " \n",
    "from datetime import datetime, date, timedelta\n",
    "import pandas as pd\n",
    "from pandas import DataFrame as df"
   ]
  },
  {
   "cell_type": "code",
   "execution_count": 87,
   "id": "d1941a98",
   "metadata": {},
   "outputs": [],
   "source": [
    "# need to fdownload\n",
    "#nltk.download('punkt')\n",
    "#nltk.download('stopwords')\n",
    "#nltk.download('wordnet')\n",
    "#nltk.download('omw-1.4')"
   ]
  },
  {
   "cell_type": "code",
   "execution_count": 88,
   "id": "11aa013d",
   "metadata": {},
   "outputs": [],
   "source": [
    "stop_words = set(stopwords.words('english'))\n",
    "lemmatizer = WordNetLemmatizer()"
   ]
  },
  {
   "cell_type": "code",
   "execution_count": 89,
   "id": "9b10066a",
   "metadata": {},
   "outputs": [],
   "source": [
    "def date_to_string(date):\n",
    "    month, day = date.month, date.day\n",
    "    if(date.month < 10):\n",
    "        month = \"0\"+str(month)\n",
    "    if date.day < 10:\n",
    "        day = \"0\"+str(day)\n",
    "    return \"{}-{}-{}\".format(date.year, month, day)"
   ]
  },
  {
   "cell_type": "code",
   "execution_count": 92,
   "id": "1e7465ce",
   "metadata": {},
   "outputs": [],
   "source": [
    "def get_keyword_df(dataframe, start_date, end_date):\n",
    "    start_time = datetime.strptime(start_date, \"%Y-%m-%d\")\n",
    "    last_time = datetime.strptime(end_date, \"%Y-%m-%d\")\n",
    "    while last_time >= start_time:\n",
    "        date_df = dataframe[dataframe['date'] == date_to_string(last_time)]\n",
    "        \n",
    "        if date_df.empty:\n",
    "            last_time -= timedelta(days = 1)\n",
    "            continue\n",
    "        \n",
    "        print(date_to_string(last_time))\n",
    "        titles = date_df['title']\n",
    "        tokens = []\n",
    "        sentences = \"\"\n",
    "        for title in titles:\n",
    "            sentence = title.strip().lower()\n",
    "            token = word_tokenize(sentence)\n",
    "            filtered_token = [lemmatizer.lemmatize(w) for w in token if not w in stop_words and w not in \".,/:'\\\"’‘$%\"]\n",
    "            tokens += filtered_token\n",
    "\n",
    "        freq_dict = {}\n",
    "        for word in tokens:\n",
    "            if word in freq_dict:\n",
    "                freq_dict[word] += 1\n",
    "            else:\n",
    "                freq_dict[word] = 1\n",
    "\n",
    "        freq_list = list(freq_dict.items())\n",
    "        freq_list.sort(key = lambda x : x[1], reverse = True)\n",
    "        print(freq_list[:10])\n",
    "        last_time -= timedelta(days = 1)\n",
    "            \n",
    "    \n",
    "    return dataframe"
   ]
  },
  {
   "cell_type": "code",
   "execution_count": 93,
   "id": "256b09f0",
   "metadata": {},
   "outputs": [],
   "source": [
    "def save_df(dataframe, start_date, end_date, output_dir):\n",
    "    name = \"news_keyword_{}_{}.csv\".format(start_date, end_date)\n",
    "    dataframe.to_csv(output_dir + \"/\" + name)"
   ]
  },
  {
   "cell_type": "code",
   "execution_count": 94,
   "id": "357f583b",
   "metadata": {},
   "outputs": [],
   "source": [
    "def get_and_save_keyword(start_date, end_date, output_dir = \"../cleaned_data/news/\"):\n",
    "    input_df = pd.read_csv(output_dir+\"news_all_{}_{}.csv\".format(start_date, end_date))\n",
    "    output_df = get_keyword_df(input_df, start_date, end_date)\n",
    "    if \"Unnamed: 0\" in output_df:\n",
    "        del output_df[\"Unnamed: 0\"]\n",
    "    save_df(output_df, start_date, end_date, output_dir)\n",
    "    "
   ]
  },
  {
   "cell_type": "code",
   "execution_count": 95,
   "id": "36300a84",
   "metadata": {},
   "outputs": [
    {
     "name": "stdout",
     "output_type": "stream",
     "text": [
      "2022-03-24\n",
      "[('crypto', 3), ('project', 2), ('exchange', 2), ('one', 2), ('pyramid', 1), ('busted', 1), ('russia', 1), ('loss', 1), ('exceed', 1), ('10', 1)]\n",
      "2022-03-23\n",
      "[('launch', 2), ('bitcoin', 2), ('bond', 2), ('crypto', 2), ('iexec', 2), ('gamestop', 1), ('beta', 1), ('nft', 1), ('marketplace', 1), ('platform', 1)]\n",
      "2022-03-22\n",
      "[('crypto', 5), ('list', 2), ('mining', 2), ('new', 2), (\"'s\", 2), ('japanese', 1), ('exchange', 1), ('coincheck', 1), ('nasdaq', 1), ('via', 1)]\n",
      "2022-03-21\n",
      "[('crypto', 3), ('price', 3), ('service', 2), ('cardano', 2), ('poised', 2), ('pull', 2), ('mind-blowing', 2), ('rally', 2), ('developer', 2), ('look', 2)]\n",
      "2022-03-20\n",
      "[('crypto', 3), ('wallet', 2), ('price', 2), ('dogecoin', 1), ('good', 1), ('entry', 1), ('trigger', 1), ('doge', 1), ('bull', 1), ('found', 1)]\n",
      "2022-03-19\n",
      "[('crypto', 3), ('bitcoin', 3), ('price', 2), ('hit', 2), ('1inch', 1), ('break', 1), ('past', 1), ('march', 1), ('swing', 1), ('high', 1)]\n",
      "2022-03-18\n",
      "[('crypto', 3), ('optimism', 1), ('raise', 1), ('150', 1), ('million', 1), ('series', 1), ('b', 1), ('funding', 1), ('round', 1), ('led', 1)]\n",
      "2022-03-17\n",
      "[('crypto', 4), ('could', 2), ('launch', 2), ('price', 2), ('u', 1), ('lawmaker', 1), ('introduce', 1), ('bill', 1), ('force', 1), ('exchange', 1)]\n",
      "2022-03-16\n",
      "[('market', 3), ('price', 2), ('stock', 2), ('fed', 2), ('bitcoin', 2), ('btc', 2), ('risk-adjusted', 1), ('roi', 1), ('close', 1), ('148.5', 1)]\n",
      "2022-03-15\n",
      "[('market', 2), ('despite', 2), ('crypto', 2), ('cplay', 2), ('ethereum', 1), ('merge', 1), ('testing', 1), ('kiln', 1), ('mostly', 1), ('successful', 1)]\n",
      "2022-03-14\n",
      "[('price', 3), ('bitcoin', 2), ('fall', 2), ('ecstasy', 1), ('kingpin', 1), ('brockton', 1), ('forfeit', 1), ('2.3m', 1), ('massachusetts', 1), ('law', 1)]\n",
      "2022-03-13\n",
      "[('ethereum', 3), ('bitcoin', 3), ('crypto', 2), ('march', 1), ('14th', 1), ('3pm', 1), ('jst', 1), ('cosplay', 1), ('token', 1), ('simultaneously', 1)]\n",
      "2022-03-12\n",
      "[('bitcoin', 3), ('exchange', 2), ('–', 2), ('?', 2), ('decoding', 1), ('xrp', 1), ('reach', 1), ('1', 1), ('mark', 1), ('ripple', 1)]\n",
      "2022-03-11\n",
      "[('crypto', 4), ('bitcoin', 3), ('(', 3), (')', 3), ('?', 2), ('future', 2), ('mainstream', 2), ('hedge', 2), ('fund', 2), ('silently', 2)]\n",
      "2022-03-10\n",
      "[('bitcoin', 5), ('crypto', 4), ('level', 2), ('vc', 2), ('million', 2), ('fund', 2), ('u', 2), ('(', 2), ('btc', 2), (')', 2)]\n",
      "2022-03-09\n",
      "[('crypto', 5), ('ethereum', 2), ('break', 2), ('&', 2), ('altcoins', 2), ('?', 2), ('measuring', 1), ('real', 1), ('potential', 1), ('buying', 1)]\n",
      "2022-03-08\n",
      "[('crypto', 6), ('bain', 2), ('capital', 2), ('market', 2), ('credit', 2), ('thailand', 1), ('seek', 1), ('offer', 1), ('russian', 1), ('tourist', 1)]\n",
      "2022-03-07\n",
      "[('bitcoin', 3), ('immutable', 2), ('raise', 2), ('price', 2), ('–', 2), ('nft', 2), ('high', 2), ('crypto', 2), ('200m', 1), ('invest', 1)]\n",
      "2022-03-06\n",
      "[('(', 3), (')', 3), ('?', 3), ('crypto', 2), ('bitcoin', 2), ('ethereum', 2), ('cardano', 2), ('price', 2), ('face', 2), ('long', 1)]\n",
      "2022-03-05\n",
      "[('bitcoin', 3), ('top', 3), ('assessing', 2), ('recovery', 2), ('crypto', 2), ('high', 2), ('coin', 2), ('march', 2), ('16,600', 1), ('address', 1)]\n",
      "2022-03-04\n",
      "[('bitcoin', 6), ('(', 4), ('btc', 4), (')', 4), ('crypto', 3), ('russia', 2), ('according', 2), ('ukraine', 1), ('find', 1), ('unlikely', 1)]\n",
      "2022-03-03\n",
      "[('crypto', 4), ('(', 2), (')', 2), ('ukraine', 2), ('force', 2), ('cryptocurrency', 2), ('?', 2), ('bitcoin', 2), ('another', 2), ('sygnum', 1)]\n",
      "2022-03-02\n",
      "[('crypto', 5), ('appear', 2), ('bitcoin', 2), ('market', 2), ('help', 1), ('ukraine', 1), ('scam', 1), ('country', 1), ('seek', 1), ('donation', 1)]\n",
      "2022-03-01\n",
      "[('crypto', 3), ('offer', 2), ('bitcoin', 2), ('(', 2), (')', 2), ('player', 2), ('indication', 1), ('suggest', 1), ('hodling', 1), ('may', 1)]\n",
      "2022-02-28\n",
      "[('bitcoin', 4), ('crypto', 3), ('ethereum', 2), ('fund', 2), ('market', 2), ('lowering', 1), ('gas', 1), ('fee', 1), ('could', 1), ('dangerous', 1)]\n",
      "2022-02-27\n",
      "[('ukraine', 4), ('crypto', 4), ('donation', 3), ('witness', 2), ('?', 2), ('behind', 2), ('cardano', 1), ('holder', 1), ('recovery', 1), ('toward', 1)]\n",
      "2022-02-26\n",
      "[('bitcoin', 3), ('next', 3), ('breaking', 2), ('resistance', 2), ('?', 2), ('btc', 2), ('support', 2), ('level', 2), ('ukraine', 2), ('crypto', 2)]\n",
      "2022-02-25\n",
      "[('coinbase', 3), ('crypto', 3), ('daos', 3), ('ukraine', 2), ('volume', 2), ('market', 2), ('take', 1), ('goldman', 1), ('veteran', 1), ('run', 1)]\n",
      "2022-02-24\n",
      "[('bitcoin', 3), ('revenue', 3), ('price', 2), ('billion', 2), ('fourth', 2), ('quarter', 2), ('2021', 2), ('coinbase', 2), ('say', 2), ('(', 2)]\n",
      "2022-02-23\n",
      "[('nft', 3), ('investor', 2), ('crypto', 2), ('bitcoin', 2), ('treasuredao', 1), ('engineer', 1), ('alleged', 1), ('past', 1), ('involvement', 1), ('questionable', 1)]\n",
      "2022-02-22\n",
      "[('crypto', 4), ('grows', 2), ('commercial', 2), ('launch', 2), ('stablecoin', 1), ('economy', 1), ('close', 1), ('10', 1), ('larger', 1), ('54', 1)]\n",
      "2022-02-21\n",
      "[('crypto', 5), ('bitcoin', 3), ('financial', 2), ('finance', 2), ('solana', 1), ('social', 1), ('euphoria', 1), ('alone', 1), ('trick', 1), ('sol', 1)]\n",
      "2022-02-20\n",
      "[('crypto', 6), ('amid', 5), ('mass', 5), ('market', 5), ('wipeout', 5), ('ethereum', 5), ('vitalik', 5), ('belief', 5), ('another', 5), ('brutal', 5)]\n",
      "2022-02-19\n",
      "[('bitcoin', 5), ('btc', 3), ('crypto', 3), ('?', 3), ('price', 2), ('trader', 2), ('new', 2), ('(', 1), (')', 1), ('prediction', 1)]\n",
      "2022-02-18\n",
      "[('crypto', 4), ('bitcoin', 2), ('stock', 2), ('federal', 2), ('reserve', 2), ('official', 2), ('banned', 2), ('grayscale', 1), ('investor', 1), ('urge', 1)]\n",
      "2022-02-17\n",
      "[('ethereum', 3), ('crypto', 3), ('(', 3), (')', 3), ('price', 2), ('level', 2), ('whale', 2), ('banning', 2), ('finance', 2), ('say', 2)]\n",
      "2022-02-16\n",
      "[('crypto', 5), ('bitcoin', 3), ('(', 3), (')', 3), ('twitter', 2), ('ethereum', 2), ('btc', 2), ('analyst', 2), ('us-based', 1), ('firm', 1)]\n",
      "2022-02-15\n",
      "[('sec', 3), ('report', 3), ('trading', 2), ('coinbase', 2), ('official', 2), ('policy', 2), ('crypto', 2), ('bitcoin', 2), ('btc', 2), ('binance.us', 1)]\n",
      "2022-02-14\n",
      "[('bitcoin', 3), ('(', 3), (')', 3), ('network', 2), ('crypto', 2), ('cash', 1), ('investor', 1), ('best', 1), ('course', 1), ('action', 1)]\n",
      "2022-02-13\n",
      "[('(', 3), (')', 3), ('ethereum', 2), ('fee', 2), ('4', 2), ('eth', 2), ('btc', 2), ('crypto', 2), ('lebron', 2), ('drop', 1)]\n",
      "2022-02-12\n",
      "[('crypto', 4), ('price', 3), ('bitcoin', 3), ('(', 3), ('btc', 3), (')', 3), ('take', 2), ('2', 2), ('digital', 2), ('market', 2)]\n",
      "2022-02-11\n"
     ]
    },
    {
     "ename": "AttributeError",
     "evalue": "'float' object has no attribute 'strip'",
     "output_type": "error",
     "traceback": [
      "\u001b[1;31m---------------------------------------------------------------------------\u001b[0m",
      "\u001b[1;31mAttributeError\u001b[0m                            Traceback (most recent call last)",
      "\u001b[1;32m<ipython-input-95-81634e8651b4>\u001b[0m in \u001b[0;36m<module>\u001b[1;34m\u001b[0m\n\u001b[1;32m----> 1\u001b[1;33m \u001b[0mget_and_save_keyword\u001b[0m\u001b[1;33m(\u001b[0m\u001b[1;34m\"2022-1-1\"\u001b[0m\u001b[1;33m,\u001b[0m \u001b[1;34m\"2022-12-31\"\u001b[0m\u001b[1;33m)\u001b[0m\u001b[1;33m\u001b[0m\u001b[1;33m\u001b[0m\u001b[0m\n\u001b[0m",
      "\u001b[1;32m<ipython-input-94-d0d62a574446>\u001b[0m in \u001b[0;36mget_and_save_keyword\u001b[1;34m(start_date, end_date, output_dir)\u001b[0m\n\u001b[0;32m      1\u001b[0m \u001b[1;32mdef\u001b[0m \u001b[0mget_and_save_keyword\u001b[0m\u001b[1;33m(\u001b[0m\u001b[0mstart_date\u001b[0m\u001b[1;33m,\u001b[0m \u001b[0mend_date\u001b[0m\u001b[1;33m,\u001b[0m \u001b[0moutput_dir\u001b[0m \u001b[1;33m=\u001b[0m \u001b[1;34m\"./data/news/\"\u001b[0m\u001b[1;33m)\u001b[0m\u001b[1;33m:\u001b[0m\u001b[1;33m\u001b[0m\u001b[1;33m\u001b[0m\u001b[0m\n\u001b[0;32m      2\u001b[0m     \u001b[0minput_df\u001b[0m \u001b[1;33m=\u001b[0m \u001b[0mpd\u001b[0m\u001b[1;33m.\u001b[0m\u001b[0mread_csv\u001b[0m\u001b[1;33m(\u001b[0m\u001b[0moutput_dir\u001b[0m\u001b[1;33m+\u001b[0m\u001b[1;34m\"news_all_{}_{}.csv\"\u001b[0m\u001b[1;33m.\u001b[0m\u001b[0mformat\u001b[0m\u001b[1;33m(\u001b[0m\u001b[0mstart_date\u001b[0m\u001b[1;33m,\u001b[0m \u001b[0mend_date\u001b[0m\u001b[1;33m)\u001b[0m\u001b[1;33m)\u001b[0m\u001b[1;33m\u001b[0m\u001b[1;33m\u001b[0m\u001b[0m\n\u001b[1;32m----> 3\u001b[1;33m     \u001b[0moutput_df\u001b[0m \u001b[1;33m=\u001b[0m \u001b[0mget_keyword_df\u001b[0m\u001b[1;33m(\u001b[0m\u001b[0minput_df\u001b[0m\u001b[1;33m,\u001b[0m \u001b[0mstart_date\u001b[0m\u001b[1;33m,\u001b[0m \u001b[0mend_date\u001b[0m\u001b[1;33m)\u001b[0m\u001b[1;33m\u001b[0m\u001b[1;33m\u001b[0m\u001b[0m\n\u001b[0m\u001b[0;32m      4\u001b[0m     \u001b[1;32mif\u001b[0m \u001b[1;34m\"Unnamed: 0\"\u001b[0m \u001b[1;32min\u001b[0m \u001b[0moutput_df\u001b[0m\u001b[1;33m:\u001b[0m\u001b[1;33m\u001b[0m\u001b[1;33m\u001b[0m\u001b[0m\n\u001b[0;32m      5\u001b[0m         \u001b[1;32mdel\u001b[0m \u001b[0moutput_df\u001b[0m\u001b[1;33m[\u001b[0m\u001b[1;34m\"Unnamed: 0\"\u001b[0m\u001b[1;33m]\u001b[0m\u001b[1;33m\u001b[0m\u001b[1;33m\u001b[0m\u001b[0m\n",
      "\u001b[1;32m<ipython-input-92-c12e39ff6981>\u001b[0m in \u001b[0;36mget_keyword_df\u001b[1;34m(dataframe, start_date, end_date)\u001b[0m\n\u001b[0;32m     14\u001b[0m         \u001b[0msentences\u001b[0m \u001b[1;33m=\u001b[0m \u001b[1;34m\"\"\u001b[0m\u001b[1;33m\u001b[0m\u001b[1;33m\u001b[0m\u001b[0m\n\u001b[0;32m     15\u001b[0m         \u001b[1;32mfor\u001b[0m \u001b[0mtitle\u001b[0m \u001b[1;32min\u001b[0m \u001b[0mtitles\u001b[0m\u001b[1;33m:\u001b[0m\u001b[1;33m\u001b[0m\u001b[1;33m\u001b[0m\u001b[0m\n\u001b[1;32m---> 16\u001b[1;33m             \u001b[0msentence\u001b[0m \u001b[1;33m=\u001b[0m \u001b[0mtitle\u001b[0m\u001b[1;33m.\u001b[0m\u001b[0mstrip\u001b[0m\u001b[1;33m(\u001b[0m\u001b[1;33m)\u001b[0m\u001b[1;33m.\u001b[0m\u001b[0mlower\u001b[0m\u001b[1;33m(\u001b[0m\u001b[1;33m)\u001b[0m\u001b[1;33m\u001b[0m\u001b[1;33m\u001b[0m\u001b[0m\n\u001b[0m\u001b[0;32m     17\u001b[0m             \u001b[0mtoken\u001b[0m \u001b[1;33m=\u001b[0m \u001b[0mword_tokenize\u001b[0m\u001b[1;33m(\u001b[0m\u001b[0msentence\u001b[0m\u001b[1;33m)\u001b[0m\u001b[1;33m\u001b[0m\u001b[1;33m\u001b[0m\u001b[0m\n\u001b[0;32m     18\u001b[0m             \u001b[0mfiltered_token\u001b[0m \u001b[1;33m=\u001b[0m \u001b[1;33m[\u001b[0m\u001b[0mlemmatizer\u001b[0m\u001b[1;33m.\u001b[0m\u001b[0mlemmatize\u001b[0m\u001b[1;33m(\u001b[0m\u001b[0mw\u001b[0m\u001b[1;33m)\u001b[0m \u001b[1;32mfor\u001b[0m \u001b[0mw\u001b[0m \u001b[1;32min\u001b[0m \u001b[0mtoken\u001b[0m \u001b[1;32mif\u001b[0m \u001b[1;32mnot\u001b[0m \u001b[0mw\u001b[0m \u001b[1;32min\u001b[0m \u001b[0mstop_words\u001b[0m \u001b[1;32mand\u001b[0m \u001b[0mw\u001b[0m \u001b[1;32mnot\u001b[0m \u001b[1;32min\u001b[0m \u001b[1;34m\".,/:'\\\"’‘$%\"\u001b[0m\u001b[1;33m]\u001b[0m\u001b[1;33m\u001b[0m\u001b[1;33m\u001b[0m\u001b[0m\n",
      "\u001b[1;31mAttributeError\u001b[0m: 'float' object has no attribute 'strip'"
     ]
    }
   ],
   "source": [
    "get_and_save_keyword(\"2022-1-1\", \"2022-12-31\")"
   ]
  },
  {
   "cell_type": "code",
   "execution_count": 29,
   "id": "2d6521a3",
   "metadata": {},
   "outputs": [
    {
     "data": {
      "text/plain": [
       "datetime.datetime(2022, 1, 1, 0, 0)"
      ]
     },
     "execution_count": 29,
     "metadata": {},
     "output_type": "execute_result"
    }
   ],
   "source": [
    "d = datetime.strptime(\"2022-01-01\", \"%Y-%m-%d\")\n",
    "d"
   ]
  },
  {
   "cell_type": "code",
   "execution_count": null,
   "id": "ac8c37dc",
   "metadata": {},
   "outputs": [],
   "source": []
  },
  {
   "cell_type": "code",
   "execution_count": null,
   "id": "8ceef19a",
   "metadata": {},
   "outputs": [],
   "source": []
  }
 ],
 "metadata": {
  "kernelspec": {
   "display_name": "Python 3 (ipykernel)",
   "language": "python",
   "name": "python3"
  },
  "language_info": {
   "codemirror_mode": {
    "name": "ipython",
    "version": 3
   },
   "file_extension": ".py",
   "mimetype": "text/x-python",
   "name": "python",
   "nbconvert_exporter": "python",
   "pygments_lexer": "ipython3",
   "version": "3.9.9"
  }
 },
 "nbformat": 4,
 "nbformat_minor": 5
}
