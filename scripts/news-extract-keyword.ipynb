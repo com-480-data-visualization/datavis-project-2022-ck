{
 "cells": [
  {
   "cell_type": "code",
   "execution_count": 9,
   "id": "705da33b",
   "metadata": {},
   "outputs": [],
   "source": [
    "import nltk\n",
    "from nltk import word_tokenize\n",
    "from nltk.probability import FreqDist\n",
    "from nltk.corpus import stopwords\n",
    "from nltk.stem import WordNetLemmatizer\n",
    " \n",
    "from datetime import datetime, date, timedelta\n",
    "import pandas as pd\n",
    "from pandas import DataFrame as df\n",
    "\n",
    "from wordcloud import WordCloud\n",
    "from wordcloud import STOPWORDS\n",
    "import matplotlib.pyplot as plt"
   ]
  },
  {
   "cell_type": "code",
   "execution_count": 10,
   "id": "d1941a98",
   "metadata": {},
   "outputs": [],
   "source": [
    "# need to fdownload\n",
    "#nltk.download('punkt')\n",
    "#nltk.download('stopwords')\n",
    "#nltk.download('wordnet')\n",
    "#nltk.download('omw-1.4')"
   ]
  },
  {
   "cell_type": "code",
   "execution_count": 14,
   "id": "11aa013d",
   "metadata": {},
   "outputs": [],
   "source": [
    "stop_words = set(stopwords.words('english'))\n",
    "symbol = \".,/:'\\\"’‘$%&;#()[]?\"\n",
    "lemmatizer = WordNetLemmatizer()"
   ]
  },
  {
   "cell_type": "code",
   "execution_count": 15,
   "id": "3308cd8c",
   "metadata": {},
   "outputs": [],
   "source": [
    "def filter_word(w):\n",
    "    return not w in stop_words and w not in symbol and not w.isdigit()\n",
    "\n",
    "def clean(sentence):\n",
    "    for s in symbol:\n",
    "        sentence = sentence.replace(s, \"\")\n",
    "    sentence = sentence.replace(\"'s\", \"\")\n",
    "    return sentence"
   ]
  },
  {
   "cell_type": "code",
   "execution_count": 16,
   "id": "1e7465ce",
   "metadata": {},
   "outputs": [],
   "source": [
    "def get_keyword_df(dataframe, name):\n",
    "    col = []\n",
    "    for index, row in dataframe.iterrows():\n",
    "        text = row[name]\n",
    "        try:\n",
    "            sentence = text.strip().lower()\n",
    "            sentence = clean(sentence)\n",
    "            token = word_tokenize(sentence)\n",
    "            filtered_token = [lemmatizer.lemmatize(w) for w in token if filter_word(w)]\n",
    "            final_sentence = \" \".join(filtered_token)\n",
    "            col.append(final_sentence)\n",
    "        except:\n",
    "            col.append(\"\")\n",
    "            pass\n",
    "    dataframe[\"keywords\"] = col\n",
    "    return dataframe"
   ]
  },
  {
   "cell_type": "code",
   "execution_count": 17,
   "id": "f94f9396",
   "metadata": {},
   "outputs": [],
   "source": [
    "def save_df(dataframe, category,year_str, output_dir = \"../cleaned_data/news/\"):\n",
    "    name = \"news_{}.csv\".format(year_str)\n",
    "    dataframe.to_csv(output_dir + name)"
   ]
  },
  {
   "cell_type": "code",
   "execution_count": 18,
   "id": "357f583b",
   "metadata": {},
   "outputs": [],
   "source": [
    "def get_and_save_keyword(year, output_dir = \"../cleaned_data/news/wordcloud/\"):\n",
    "    input_df = pd.read_csv(\"../cleaned_data/news/news_{}.csv\".format(year))\n",
    "    input_df = input_df.drop(columns = ['Unnamed: 0'])\n",
    "    output = get_keyword_df(input_df, 'title')\n",
    "    save_df(output, \"\", year)"
   ]
  },
  {
   "cell_type": "code",
   "execution_count": 19,
   "id": "f2ce0878",
   "metadata": {},
   "outputs": [],
   "source": [
    "for year in range(2013, 2023):\n",
    "    get_and_save_keyword(year, 'title')"
   ]
  },
  {
   "cell_type": "code",
   "execution_count": null,
   "id": "811077a6",
   "metadata": {},
   "outputs": [],
   "source": []
  }
 ],
 "metadata": {
  "kernelspec": {
   "display_name": "Python 3",
   "language": "python",
   "name": "python3"
  },
  "language_info": {
   "codemirror_mode": {
    "name": "ipython",
    "version": 3
   },
   "file_extension": ".py",
   "mimetype": "text/x-python",
   "name": "python",
   "nbconvert_exporter": "python",
   "pygments_lexer": "ipython3",
   "version": "3.9.4"
  }
 },
 "nbformat": 4,
 "nbformat_minor": 5
}
