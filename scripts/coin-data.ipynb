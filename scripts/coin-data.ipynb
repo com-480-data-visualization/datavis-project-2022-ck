{
 "cells": [
  {
   "cell_type": "markdown",
   "id": "35ec35e4",
   "metadata": {},
   "source": [
    "# Crypto Currency Price Data\n",
    "\n",
    "This documentation shows how to get the crypto currency price data from [Crypto Compare](https://min-api.cryptocompare.com/documentation?key=Historical&cat=dataHistoday).\n",
    "\n",
    "Note: Python 3.9 is required."
   ]
  },
  {
   "cell_type": "code",
   "execution_count": null,
   "id": "72d25890",
   "metadata": {},
   "outputs": [],
   "source": [
    "import requests, time\n",
    "from datetime import datetime, date\n",
    "from pandas import DataFrame as df\n",
    "\n",
    "DAILY_URL = \"https://min-api.cryptocompare.com/data/v2/histoday\"\n",
    "LIMIT_QUERY = 2000"
   ]
  },
  {
   "cell_type": "code",
   "execution_count": null,
   "id": "90bdd84f",
   "metadata": {},
   "outputs": [],
   "source": [
    "# currency: BTC, ETH, ...\n",
    "# to_currency: USD\n",
    "# Return a List of Objects\n",
    "def daily_request(currency, to_currency, to_ts, limit): \n",
    "    params = {\n",
    "        \"fsym\": currency,\n",
    "        \"tsym\": to_currency,\n",
    "        \"limit\": limit,\n",
    "        \"toTs\": to_ts\n",
    "    }\n",
    "    req = requests.get(DAILY_URL, params = params).json()\n",
    "    return req[\"Data\"]"
   ]
  },
  {
   "cell_type": "code",
   "execution_count": null,
   "id": "ebeab6ae",
   "metadata": {},
   "outputs": [],
   "source": [
    "# currency: BTC, ETH, ...\n",
    "# to_currency: USD\n",
    "# Return a List of Objects\n",
    "def get_daily_data(currency, to_currency, days_remaining, to_ts = int(datetime.now().timestamp())):\n",
    "    result = []\n",
    "    last_time_from = to_ts - 1\n",
    "\n",
    "    while days_remaining > 0:\n",
    "        days = min(LIMIT_QUERY, days_remaining-1)\n",
    "        res = daily_request(currency, to_currency, last_time_from, days)\n",
    "        data = res[\"Data\"]\n",
    "        result += data[::-1]\n",
    "        days_remaining -= len(data)\n",
    "        last_time_from = res[\"TimeFrom\"]-1\n",
    "    return result"
   ]
  },
  {
   "cell_type": "code",
   "execution_count": null,
   "id": "eb2394d0",
   "metadata": {},
   "outputs": [],
   "source": [
    "def add_date(list_data):\n",
    "    return [data | {\"date\": date.fromtimestamp(data[\"time\"]) } for data in list_data]"
   ]
  },
  {
   "cell_type": "code",
   "execution_count": null,
   "id": "a5da17e3",
   "metadata": {},
   "outputs": [],
   "source": [
    "def get_daily_data_df(currency, to_currency, days_remaining, to_ts = int(datetime.now().timestamp())):\n",
    "    return df(add_date(get_daily_data(currency, to_currency, days_remaining, to_ts)))"
   ]
  },
  {
   "cell_type": "code",
   "execution_count": null,
   "id": "b48094bc",
   "metadata": {},
   "outputs": [],
   "source": [
    "# Create a dataframe for the data\n",
    "dataframe = get_daily_data_df(\"BTC\", \"USD\", 10)\n",
    "dataframe"
   ]
  },
  {
   "cell_type": "code",
   "execution_count": null,
   "id": "8bd13f63",
   "metadata": {},
   "outputs": [],
   "source": [
    "def save_df(dataframe, currency, to_currency, days, end_date_str, output_dir = \"../raw_data\"):\n",
    "    name = \"{}_{}_{}_{}.csv\".format(currency, to_currency, days, end_date_str)\n",
    "    dataframe.to_csv(output_dir + \"/\" + name)"
   ]
  },
  {
   "cell_type": "code",
   "execution_count": null,
   "id": "26ab9535",
   "metadata": {},
   "outputs": [],
   "source": [
    "# save the dataframe to ./data\n",
    "save_df(dataframe, \"BTC\", \"USD\", 10, \"2022-03-03\")"
   ]
  },
  {
   "cell_type": "code",
   "execution_count": null,
   "id": "69feea03",
   "metadata": {},
   "outputs": [],
   "source": [
    "# all_in_one\n",
    "def get_and_save_daily_data(currency, to_currency, days, to_ts = int(datetime.now().timestamp()), output_dir = \"../raw_data\"):\n",
    "    dataframe = get_daily_data_df(currency, to_currency, days, to_ts)\n",
    "    end_date_str = date.fromtimestamp(to_ts).strftime(\"%Y-%m-%d\")\n",
    "    save_df(dataframe, currency, to_currency, days, end_date_str)\n",
    "    print(\"done\")"
   ]
  },
  {
   "cell_type": "code",
   "execution_count": null,
   "id": "cf9746b6",
   "metadata": {},
   "outputs": [],
   "source": [
    "# Example of all_in_one\n",
    "\n",
    "get_and_save_daily_data(\"BTC\", \"USD\", 4000)"
   ]
  },
  {
   "cell_type": "code",
   "execution_count": null,
   "id": "e6d3f948",
   "metadata": {},
   "outputs": [],
   "source": [
    "# list of currencies and list of to_currencies\n",
    "list_currencies = [\n",
    "    \"BTC\", \"ETH\", \"USDT\", \"USDC\", \"XRP\", \"LUNA\", \"SOL\", \"ADA\", \"AVAX\", \"DOT\",\n",
    "    \"DOGE\", \"UST\", \"SHIB\", \"WBTC\", \"MATIC\", \"CRO\", \"DAI\", \"ATOM\", \"LTC\", \"NEAR\",\n",
    "    \"LINK\", \"TRX\", \"BCH\", \"LEO\", \"ALGO\", \"OKB\", \"XLM\", \"FTM\", \"HBAR\", \"UNI\"\n",
    "]\n",
    "\n",
    "list_to_currencies = [\"USD\", \"EUR\", \"CNY\", \"JPY\", \"GBP\", \"CHF\"]"
   ]
  },
  {
   "cell_type": "code",
   "execution_count": null,
   "id": "4aba077a",
   "metadata": {},
   "outputs": [],
   "source": [
    "for currency in list_currencies:\n",
    "    for to_currency in list_to_currencies:\n",
    "        print(currency, to_currency)\n",
    "        get_and_save_daily_data(currency, to_currency, 5000)\n",
    "        time.sleep(0.1)\n",
    "        "
   ]
  }
 ],
 "metadata": {
  "kernelspec": {
   "display_name": "Python 3 (ipykernel)",
   "language": "python",
   "name": "python3"
  },
  "language_info": {
   "codemirror_mode": {
    "name": "ipython",
    "version": 3
   },
   "file_extension": ".py",
   "mimetype": "text/x-python",
   "name": "python",
   "nbconvert_exporter": "python",
   "pygments_lexer": "ipython3",
   "version": "3.9.9"
  }
 },
 "nbformat": 4,
 "nbformat_minor": 5
}
